{
 "cells": [
  {
   "cell_type": "code",
   "execution_count": null,
   "metadata": {},
   "outputs": [],
   "source": [
    "Name - Sankalp Manchekar \n",
    "Roll no- 35\n",
    "Class - BE IT B2\n",
    "Title - Object detection using Transfer Learning of CNN architectures \n",
    "a. Load in a pre-trained CNN model trained on a large dataset \n",
    "b. Freeze parameters (weights) in model’s lower convolutional layers \n",
    "c. Add custom classifier with several layers of trainable parameters to model \n",
    "d. Train classifier layers on training data available for task \n",
    "e. Fine-tune hyper parameters and unfreeze more layers as needed"
   ]
  },
  {
   "cell_type": "code",
   "execution_count": 1,
   "metadata": {},
   "outputs": [
    {
     "name": "stderr",
     "output_type": "stream",
     "text": [
      "C:\\Users\\sanka\\anaconda3\\lib\\site-packages\\requests\\__init__.py:89: RequestsDependencyWarning: urllib3 (2.2.3) or chardet (3.0.4) doesn't match a supported version!\n",
      "  warnings.warn(\"urllib3 ({}) or chardet ({}) doesn't match a supported \"\n"
     ]
    }
   ],
   "source": [
    "import tensorflow as tf\n",
    "from tensorflow import keras\n",
    "from tensorflow.keras.applications import VGG16\n",
    "from tensorflow.keras.models import Model\n",
    "from tensorflow.keras.layers import Dense, Flatten\n",
    "from tensorflow.keras.optimizers import Adam\n",
    "from tensorflow.keras.preprocessing.image import ImageDataGenerator\n",
    "import numpy as np"
   ]
  },
  {
   "cell_type": "code",
   "execution_count": 2,
   "metadata": {},
   "outputs": [],
   "source": [
    "train_dir = \"C:/Users/sanka/OneDrive/Desktop/Data sets/cifar-10-img/cifar-10-img/train\"\n",
    "test_dir = \"C:/Users/sanka/OneDrive/Desktop/Data sets/cifar-10-img/cifar-10-img/test\""
   ]
  },
  {
   "cell_type": "code",
   "execution_count": 3,
   "metadata": {},
   "outputs": [
    {
     "data": {
      "text/plain": [
       "'C:/Users/sanka/OneDrive/Desktop/Data sets/cifar-10-img/cifar-10-img/train'"
      ]
     },
     "execution_count": 3,
     "metadata": {},
     "output_type": "execute_result"
    }
   ],
   "source": [
    "train_dir"
   ]
  },
  {
   "cell_type": "code",
   "execution_count": 4,
   "metadata": {},
   "outputs": [
    {
     "data": {
      "text/plain": [
       "'C:/Users/sanka/OneDrive/Desktop/Data sets/cifar-10-img/cifar-10-img/test'"
      ]
     },
     "execution_count": 4,
     "metadata": {},
     "output_type": "execute_result"
    }
   ],
   "source": [
    "test_dir"
   ]
  },
  {
   "cell_type": "code",
   "execution_count": 5,
   "metadata": {},
   "outputs": [],
   "source": [
    "train_datagen = ImageDataGenerator(\n",
    "    rescale=1.0 / 255,\n",
    ")\n",
    "\n",
    "test_datagen = ImageDataGenerator(\n",
    "    rescale=1.0 / 255,\n",
    ")\n"
   ]
  },
  {
   "cell_type": "code",
   "execution_count": 6,
   "metadata": {},
   "outputs": [
    {
     "name": "stdout",
     "output_type": "stream",
     "text": [
      "Found 40079 images belonging to 10 classes.\n",
      "Found 9921 images belonging to 10 classes.\n"
     ]
    }
   ],
   "source": [
    "# here batch_size is the number of images in each batch\n",
    "\n",
    "train_batch_size = 5000\n",
    "train_generator = train_datagen.flow_from_directory(\n",
    "    train_dir,\n",
    "    target_size=(32, 32),\n",
    "    batch_size=train_batch_size,\n",
    "    class_mode='categorical'\n",
    ")\n",
    "\n",
    "test_batch_size = 1000\n",
    "test_generator = test_datagen.flow_from_directory(\n",
    "    test_dir,\n",
    "    target_size=(32, 32),\n",
    "    batch_size=test_batch_size,\n",
    "    class_mode='categorical'\n",
    ")"
   ]
  },
  {
   "cell_type": "code",
   "execution_count": 7,
   "metadata": {},
   "outputs": [
    {
     "name": "stdout",
     "output_type": "stream",
     "text": [
      "5000\n",
      "1000\n"
     ]
    }
   ],
   "source": [
    "x_train, y_train =  train_generator[0]\n",
    "x_test, y_test = test_generator[0]\n",
    "\n",
    "print(len(x_train))\n",
    "print(len(x_test))"
   ]
  },
  {
   "cell_type": "code",
   "execution_count": 8,
   "metadata": {},
   "outputs": [],
   "source": [
    "# Load VGG16 without top layers\n",
    "weights_path = \"vgg16_weights_tf_dim_ordering_tf_kernels_notop.h5\"\n",
    "base_model = VGG16(weights=weights_path, include_top=False, input_shape=(32, 32, 3))"
   ]
  },
  {
   "cell_type": "code",
   "execution_count": 9,
   "metadata": {},
   "outputs": [],
   "source": [
    "for layer in base_model.layers:\n",
    "   layer.trainable = False"
   ]
  },
  {
   "cell_type": "code",
   "execution_count": 10,
   "metadata": {},
   "outputs": [],
   "source": [
    "x = Flatten()(base_model.output)\n",
    "x = Dense(256, activation='relu')(x)\n",
    "x = tf.keras.layers.Dropout(0.3)(x)\n",
    "x = Dense(256, activation='relu')(x)\n",
    "x = tf.keras.layers.Dropout(0.3)(x)\n",
    "predictions = Dense(10, activation='softmax')(x)\n",
    "\n",
    "# Create the model\n",
    "model = Model(inputs=base_model.input, outputs=predictions)\n",
    "# Compile the model\n",
    "model.compile(optimizer=\"adam\", loss='categorical_crossentropy', metrics=['accuracy'])"
   ]
  },
  {
   "cell_type": "code",
   "execution_count": 11,
   "metadata": {},
   "outputs": [
    {
     "name": "stdout",
     "output_type": "stream",
     "text": [
      "Epoch 1/10\n",
      "79/79 [==============================] - 20s 249ms/step - loss: 1.9585 - accuracy: 0.3034 - val_loss: 1.5953 - val_accuracy: 0.4590\n",
      "Epoch 2/10\n",
      "79/79 [==============================] - 18s 223ms/step - loss: 1.5787 - accuracy: 0.4440 - val_loss: 1.4498 - val_accuracy: 0.4990\n",
      "Epoch 3/10\n",
      "79/79 [==============================] - 18s 224ms/step - loss: 1.4612 - accuracy: 0.4852 - val_loss: 1.3657 - val_accuracy: 0.5410\n",
      "Epoch 4/10\n",
      "79/79 [==============================] - 19s 235ms/step - loss: 1.3683 - accuracy: 0.5156 - val_loss: 1.3115 - val_accuracy: 0.5580\n",
      "Epoch 5/10\n",
      "79/79 [==============================] - 16s 197ms/step - loss: 1.2856 - accuracy: 0.5424 - val_loss: 1.3732 - val_accuracy: 0.5240\n",
      "Epoch 6/10\n",
      "79/79 [==============================] - 16s 199ms/step - loss: 1.2533 - accuracy: 0.5616 - val_loss: 1.3063 - val_accuracy: 0.5550\n",
      "Epoch 7/10\n",
      "79/79 [==============================] - 16s 198ms/step - loss: 1.1820 - accuracy: 0.5876 - val_loss: 1.2719 - val_accuracy: 0.5610\n",
      "Epoch 8/10\n",
      "79/79 [==============================] - 17s 209ms/step - loss: 1.1252 - accuracy: 0.6130 - val_loss: 1.2695 - val_accuracy: 0.5690\n",
      "Epoch 9/10\n",
      "79/79 [==============================] - 18s 229ms/step - loss: 1.0940 - accuracy: 0.6174 - val_loss: 1.2686 - val_accuracy: 0.5660\n",
      "Epoch 10/10\n",
      "79/79 [==============================] - 18s 232ms/step - loss: 1.0463 - accuracy: 0.6370 - val_loss: 1.2713 - val_accuracy: 0.5650\n"
     ]
    },
    {
     "data": {
      "text/plain": [
       "<keras.callbacks.History at 0x2997785e520>"
      ]
     },
     "execution_count": 11,
     "metadata": {},
     "output_type": "execute_result"
    }
   ],
   "source": [
    "# Train the model\n",
    "model.fit(x_train, y_train, batch_size=64, epochs=10, validation_data=(x_test, y_test))"
   ]
  },
  {
   "cell_type": "code",
   "execution_count": 12,
   "metadata": {},
   "outputs": [
    {
     "name": "stdout",
     "output_type": "stream",
     "text": [
      "Epoch 1/10\n",
      "79/79 [==============================] - 49s 608ms/step - loss: 1.9784 - accuracy: 0.2556 - val_loss: 1.4228 - val_accuracy: 0.5060\n",
      "Epoch 2/10\n",
      "79/79 [==============================] - 48s 612ms/step - loss: 1.3392 - accuracy: 0.5314 - val_loss: 1.2556 - val_accuracy: 0.5620\n",
      "Epoch 3/10\n",
      "79/79 [==============================] - 46s 589ms/step - loss: 1.0812 - accuracy: 0.6280 - val_loss: 1.2446 - val_accuracy: 0.6020\n",
      "Epoch 4/10\n",
      "79/79 [==============================] - 46s 588ms/step - loss: 0.9124 - accuracy: 0.6864 - val_loss: 1.1299 - val_accuracy: 0.6360\n",
      "Epoch 5/10\n",
      "79/79 [==============================] - 46s 589ms/step - loss: 0.7689 - accuracy: 0.7438 - val_loss: 1.1596 - val_accuracy: 0.6400\n",
      "Epoch 6/10\n",
      "79/79 [==============================] - 47s 601ms/step - loss: 0.6404 - accuracy: 0.7838 - val_loss: 1.1553 - val_accuracy: 0.6500\n",
      "Epoch 7/10\n",
      "79/79 [==============================] - 46s 581ms/step - loss: 0.6092 - accuracy: 0.7936 - val_loss: 1.3129 - val_accuracy: 0.6320\n",
      "Epoch 8/10\n",
      "79/79 [==============================] - 46s 584ms/step - loss: 0.5241 - accuracy: 0.8254 - val_loss: 1.1735 - val_accuracy: 0.6770\n",
      "Epoch 9/10\n",
      "79/79 [==============================] - 46s 581ms/step - loss: 0.4470 - accuracy: 0.8554 - val_loss: 1.3096 - val_accuracy: 0.6660\n",
      "Epoch 10/10\n",
      "79/79 [==============================] - 46s 585ms/step - loss: 0.3632 - accuracy: 0.8806 - val_loss: 1.5076 - val_accuracy: 0.6430\n"
     ]
    },
    {
     "data": {
      "text/plain": [
       "<keras.callbacks.History at 0x29901181ee0>"
      ]
     },
     "execution_count": 12,
     "metadata": {},
     "output_type": "execute_result"
    }
   ],
   "source": [
    "base_model = VGG16(weights=weights_path, include_top=False, input_shape=(32, 32, 3))\n",
    "# freeze all layers first\n",
    "for layer in base_model.layers:\n",
    "   layer.trainable = False\n",
    "# unfreeze last 4 layers of base model\n",
    "for layer in base_model.layers[len(base_model.layers) - 4:]:\n",
    "   layer.trainable = True\n",
    "# fine-tuning hyper parameters\n",
    "x = Flatten()(base_model.output)\n",
    "x = Dense(256, activation='relu')(x)\n",
    "x = tf.keras.layers.Dropout(0.3)(x)\n",
    "x = Dense(512, activation='relu')(x)\n",
    "x = tf.keras.layers.Dropout(0.3)(x)\n",
    "predictions = Dense(10, activation='softmax')(x)\n",
    "\n",
    "# Create the model\n",
    "model = Model(inputs=base_model.input, outputs=predictions)\n",
    "# Compile the model\n",
    "model.compile(optimizer=Adam(learning_rate=0.001), loss='categorical_crossentropy', metrics=['accuracy'])\n",
    "# training fine tuned model\n",
    "model.fit(x_train, y_train, batch_size=64, epochs=10, validation_data=(x_test, y_test))"
   ]
  },
  {
   "cell_type": "code",
   "execution_count": 13,
   "metadata": {},
   "outputs": [
    {
     "name": "stdout",
     "output_type": "stream",
     "text": [
      "32/32 [==============================] - 3s 96ms/step\n"
     ]
    }
   ],
   "source": [
    "import matplotlib.pyplot as plt\n",
    "predicted_value = model.predict(x_test)"
   ]
  },
  {
   "cell_type": "code",
   "execution_count": 14,
   "metadata": {},
   "outputs": [],
   "source": [
    "labels = list(test_generator.class_indices.keys())"
   ]
  },
  {
   "cell_type": "code",
   "execution_count": 17,
   "metadata": {},
   "outputs": [
    {
     "name": "stdout",
     "output_type": "stream",
     "text": [
      "Preditcted:  truck\n",
      "Actual:  truck\n"
     ]
    },
    {
     "data": {
      "image/png": "[encoded data removed]",
      "text/plain": [
       "<Figure size 432x288 with 1 Axes>"
      ]
     },
     "metadata": {
      "needs_background": "light"
     },
     "output_type": "display_data"
    }
   ],
   "source": [
    "n=945\n",
    "plt.imshow(x_test[n])\n",
    "print(\"Preditcted: \",labels[np.argmax(predicted_value[n])])\n",
    "print(\"Actual: \", labels[np.argmax(y_test[n])])"
   ]
  },
  {
   "cell_type": "code",
   "execution_count": 18,
   "metadata": {},
   "outputs": [
    {
     "name": "stdout",
     "output_type": "stream",
     "text": [
      "Preditcted:  horse\n",
      "Actual:  ship\n"
     ]
    },
    {
     "data": {
      "image/png": "[encoded data removed]",
      "text/plain": [
       "<Figure size 432x288 with 1 Axes>"
      ]
     },
     "metadata": {
      "needs_background": "light"
     },
     "output_type": "display_data"
    }
   ],
   "source": [
    "n=9\n",
    "plt.imshow(x_test[n])\n",
    "print(\"Preditcted: \",labels[np.argmax(predicted_value[n])])\n",
    "print(\"Actual: \", labels[np.argmax(y_test[n])])"
   ]
  },
  {
   "cell_type": "code",
   "execution_count": 20,
   "metadata": {},
   "outputs": [
    {
     "name": "stdout",
     "output_type": "stream",
     "text": [
      "Preditcted:  deer\n",
      "Actual:  deer\n"
     ]
    },
    {
     "data": {
      "image/png": "[encoded data removed]",
      "text/plain": [
       "<Figure size 432x288 with 1 Axes>"
      ]
     },
     "metadata": {
      "needs_background": "light"
     },
     "output_type": "display_data"
    }
   ],
   "source": [
    "n=5\n",
    "plt.imshow(x_test[n])\n",
    "print(\"Preditcted: \",labels[np.argmax(predicted_value[n])])\n",
    "print(\"Actual: \", labels[np.argmax(y_test[n])])"
   ]
  },
  {
   "cell_type": "code",
   "execution_count": null,
   "metadata": {},
   "outputs": [],
   "source": []
  }
 ],
 "metadata": {
  "kernelspec": {
   "display_name": "Python 3",
   "language": "python",
   "name": "python3"
  },
  "language_info": {
   "codemirror_mode": {
    "name": "ipython",
    "version": 3
   },
   "file_extension": ".py",
   "mimetype": "text/x-python",
   "name": "python",
   "nbconvert_exporter": "python",
   "pygments_lexer": "ipython3",
   "version": "3.8.5"
  }
 },
 "nbformat": 4,
 "nbformat_minor": 4
}
